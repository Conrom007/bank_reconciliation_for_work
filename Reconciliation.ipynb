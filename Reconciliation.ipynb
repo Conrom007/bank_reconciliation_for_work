{
  "nbformat": 4,
  "nbformat_minor": 0,
  "metadata": {
    "colab": {
      "provenance": []
    },
    "kernelspec": {
      "name": "python3",
      "display_name": "Python 3"
    },
    "language_info": {
      "name": "python"
    }
  },
  "cells": [
    {
      "cell_type": "markdown",
      "source": [
        "# Instructions"
      ],
      "metadata": {
        "id": "g-ggvsuUuQyg"
      }
    },
    {
      "cell_type": "markdown",
      "source": [
        "## Formatting"
      ],
      "metadata": {
        "id": "sn3zAyFxuWyH"
      }
    },
    {
      "cell_type": "markdown",
      "source": [
        "### Ledger"
      ],
      "metadata": {
        "id": "gKUcRqAluZ0r"
      }
    },
    {
      "cell_type": "markdown",
      "source": [
        "### Bank"
      ],
      "metadata": {
        "id": "jpxFP_eeucZf"
      }
    },
    {
      "cell_type": "markdown",
      "source": [
        "#Reconciliation"
      ],
      "metadata": {
        "id": "uJBcz_n9fqE-"
      }
    },
    {
      "cell_type": "markdown",
      "source": [
        "## 1. Function Setup"
      ],
      "metadata": {
        "id": "vCKz75qNtly3"
      }
    },
    {
      "cell_type": "code",
      "source": [
        "def Reconciliation():\n",
        "  import pandas as pd\n",
        "  import numpy as np\n",
        "  from tqdm import tqdm\n",
        "  import calendar\n",
        "\n",
        "\n",
        "\n",
        "\n",
        "  ledger_df = pd.read_excel('/content/Ledger.xlsx')\n",
        "  ledger_df['Debit'] = ledger_df['Debit'].replace({' ': 0})\n",
        "  ledger_df['Credit'] = ledger_df['Credit'].replace({' ': 0})\n",
        "  ledger_df['Debit'] = ledger_df['Debit'].astype('float')\n",
        "  ledger_df['Credit'] = ledger_df['Credit'].astype('float')\n",
        "  ledger_df['Date'] = ledger_df['Date'].replace({pd.NaT: 0})\n",
        "  ledger_df = ledger_df[ledger_df['Date'] != 0]\n",
        "  ledger_df['Date'] = pd.to_datetime(ledger_df['Date'], dayfirst = False)\n",
        "  ledger_df.reset_index(drop=True, inplace = True)\n",
        "\n",
        "\n",
        "  #gets the month name from the numerical month value\n",
        "  month_string = calendar.month_name[(pd.to_datetime(ledger_df['Date'].iloc[0])).month]\n",
        "\n",
        "\n",
        "  bank_df = pd.read_excel('/content/Bank.xlsx')\n",
        "  bank_df['Debit'] = bank_df['Debit'].fillna(0)\n",
        "  bank_df['Credit'] = bank_df['Credit'].fillna(0)\n",
        "  bank_df['Debit'] = bank_df['Debit'].replace({' ': 0})\n",
        "  bank_df['Credit'] = bank_df['Credit'].replace({' ': 0})\n",
        "  bank_df['Debit'] = bank_df['Debit'].astype('float')\n",
        "  bank_df['Credit'] = bank_df['Credit'].astype('float')\n",
        "  bank_df.rename(columns = {'Posting Date': 'Date'}, inplace = True)\n",
        "  bank_df['Date'] = bank_df['Date'].replace({pd.NaT: 0})\n",
        "  bank_df = bank_df[bank_df['Date'] != 0]\n",
        "  bank_df['Date'] = pd.to_datetime(bank_df['Date'], dayfirst = True)\n",
        "\n",
        "  bank_month_string = calendar.month_name[(pd.to_datetime(bank_df['Date'].iloc[0])).month]\n",
        "\n",
        "\n",
        "  if month_string != bank_month_string:\n",
        "    print(\"Error: Month mismatch between the Ledger and the Bank Statement. Check the uploaded files and try again.\")\n",
        "  else:\n",
        "    #first pass\n",
        "\n",
        "    print(\"Starting First Pass.\\n\")\n",
        "\n",
        "    bank_amounts = []\n",
        "    ledger_amounts = []\n",
        "\n",
        "    for row in range(0, len(bank_df)):\n",
        "      bank_amounts += [(abs(bank_df['Debit'].iloc[row]) + abs(bank_df['Credit'].iloc[row]))]\n",
        "    bank_df['Amount'] = bank_amounts\n",
        "\n",
        "    for row in range(0, len(ledger_df)):\n",
        "      ledger_amounts += [abs(ledger_df['Debit'].iloc[row]) + abs(ledger_df['Credit'].iloc[row])]\n",
        "    ledger_df['Amount'] = ledger_amounts\n",
        "\n",
        "    ledger_initial_length = len(ledger_df)\n",
        "    bank_initial_length = len(bank_df)\n",
        "    print(\"Ledger Entries to Match\", ledger_initial_length,\"\\nBank Entries to Match\", bank_initial_length, \"\\n\")\n",
        "\n",
        "\n",
        "    ledger_rows_to_drop = []\n",
        "    bank_rows_to_drop = []\n",
        "\n",
        "    print(\"Matching in progress:\")\n",
        "    for ledger_row in tqdm(range(len(ledger_df))):\n",
        "\n",
        "        for bank_row in range(len(bank_df)):\n",
        "          \"\"\"\n",
        "          print(\"ledger_row:\", ledger_row, \"bank_row:\", bank_row)\n",
        "          print(\"ledger_df['Date'].iloc[ledger_row]:\", ledger_df['Date'].iloc[ledger_row])\n",
        "          print(\"bank_df['Date'].iloc[bank_row]:\", bank_df['Date'].iloc[bank_row])\n",
        "          print(\"ledger_df['Amount'].iloc[ledger_row]:\", ledger_df['Amount'].iloc[ledger_row])\n",
        "          print(\"bank_df['Amount'].iloc[bank_row]:\", bank_df['Amount'].iloc[bank_row])\n",
        "          \"\"\"\n",
        "          if bank_row in bank_rows_to_drop:\n",
        "            continue\n",
        "          else:\n",
        "\n",
        "            if ledger_df['Date'].iloc[int(ledger_row)] == bank_df['Date'].iloc[int(bank_row)]:\n",
        "                if ledger_df['Amount'].iloc[ledger_row] == bank_df['Amount'].iloc[bank_row]:\n",
        "                    ledger_rows_to_drop += [ledger_row]\n",
        "                    bank_rows_to_drop += [bank_row]\n",
        "                    #exit the inner loop after a match is found to avoid unnecessary iterations\n",
        "                    break\n",
        "                else:\n",
        "                    #print(\"Amounts don't match.\")\n",
        "                    continue\n",
        "            else:\n",
        "                #print(\"Dates don't match.\")\n",
        "                continue\n",
        "\n",
        "    for row in ledger_rows_to_drop:\n",
        "      ledger_df = ledger_df.drop(index=row)\n",
        "    ledger_df.reset_index(drop=True, inplace = True)\n",
        "    for row in bank_rows_to_drop:\n",
        "      bank_df = bank_df.drop(index=row)\n",
        "    bank_df.reset_index(drop=True, inplace = True)\n",
        "\n",
        "    ledger_current_length = len(ledger_df)\n",
        "    bank_current_length = len(bank_df)\n",
        "\n",
        "    ledger_total_matched = ledger_initial_length - ledger_current_length\n",
        "    bank_total_matched = bank_initial_length - bank_current_length\n",
        "\n",
        "    print(\"\\nTotal Ledger Entries Matched\",ledger_total_matched,\"\\nTotal Bank Entries Matched\", bank_total_matched)\n",
        "\n",
        "    print(\"\\nTotal Remaining Unmatched Ledger Entries\",ledger_current_length,\"\\nTotal Remaining Unmatched Bank Entries\", bank_current_length)\n",
        "\n",
        "    #second pass\n",
        "    ledger_initial_length = len(ledger_df)\n",
        "    bank_initial_length = len(bank_df)\n",
        "\n",
        "    print(\"\\n----------------------------------------------------\\n\")\n",
        "    print(\"\\nStarting Second Pass.\")\n",
        "    print(\"\\nLedger Entries to Match\", ledger_initial_length,\"\\nBank Entries to Match\", bank_initial_length, \"\\n\")\n",
        "    rows_to_drop_ledger = []\n",
        "    rows_to_drop_bank = []\n",
        "\n",
        "    print(\"Matching Unique Date Instances in progress:\")\n",
        "    #iterate over unique dates in ledger_df\n",
        "    for date in tqdm(ledger_df['Date'].unique()):\n",
        "        #filter rows with the same date\n",
        "        same_date_rows = ledger_df[ledger_df['Date'] == date]\n",
        "\n",
        "        #iterate over unique names in same_date_rows\n",
        "        for name in same_date_rows['Name'].unique():\n",
        "            # Filter rows with the same name\n",
        "            same_name_rows = same_date_rows[same_date_rows['Name'] == name]\n",
        "\n",
        "            #iterate over rows to find matching combinations\n",
        "            for i in range(len(same_name_rows)):\n",
        "                for j in range(i + 1, len(same_name_rows) + 1):\n",
        "                    combo = same_name_rows.iloc[i:j]\n",
        "                    combo_sum = combo['Amount'].sum()\n",
        "\n",
        "                    #find matching rows in bank_df\n",
        "                    matching_rows = bank_df[bank_df['Amount'] == combo_sum]\n",
        "\n",
        "                    #check if there are matching rows\n",
        "                    if len(matching_rows) > 0:\n",
        "                        # Store the rows to drop\n",
        "                        rows_to_drop_ledger.extend(combo.index)\n",
        "                        rows_to_drop_bank.extend(matching_rows.index)\n",
        "\n",
        "\n",
        "    ledger_df = ledger_df.drop(index=rows_to_drop_ledger).reset_index(drop=True)\n",
        "    bank_df = bank_df.drop(index=rows_to_drop_bank).reset_index(drop=True)\n",
        "\n",
        "    ledger_current_length = len(ledger_df)\n",
        "    bank_current_length = len(bank_df)\n",
        "\n",
        "    ledger_total_matched = ledger_initial_length - ledger_current_length\n",
        "    bank_total_matched = bank_initial_length - bank_current_length\n",
        "\n",
        "    print(\"\\nTotal Ledger Entries Matched\",ledger_total_matched,\"\\nTotal Bank Entries Matched\", bank_total_matched)\n",
        "\n",
        "    print(\"\\nTotal Remaining Unmatched Ledger Entries\",ledger_current_length,\"\\nTotal Remaining Unmatched Bank Entries\", bank_current_length)\n",
        "\n",
        "\n",
        "    unmatched_ledger_entries = ledger_df.copy()\n",
        "    unmatched_bank_entries = bank_df.copy()\n",
        "    unmatched_ledger_entries['Date'] = unmatched_ledger_entries['Date'].dt.strftime('%d-%m-%Y')\n",
        "    unmatched_bank_entries['Date'] = unmatched_bank_entries['Date'].dt.strftime('%d-%m-%Y')\n",
        "\n",
        "\n",
        "\n",
        "\n",
        "    print(\"\\n----------------------------------------------------\\n\")\n",
        "    print(\"\\nCreating Excel Files:\")\n",
        "\n",
        "\n",
        "    names = [\"unmatched_ledger_entries\",\"unmatched_bank_entries\"]\n",
        "    dataframes = {\n",
        "      \"unmatched_ledger_entries\": unmatched_ledger_entries,\n",
        "      \"unmatched_bank_entries\": unmatched_bank_entries\n",
        "                  }\n",
        "    \"\"\"\n",
        "\n",
        "    for name, element in tqdm(range(0, len(names))):\n",
        "    #for name, df in tqdm(dataframes.items()):\n",
        "      filename = f\"{dataframes[element][0]}.xlsx\"\n",
        "      dataframe = dataframes[element][0]\n",
        "      dataframe.to_excel(filename, index=False)\n",
        "      print(f\"Created Excel file: {filename}\")\"\"\"\n",
        "\n",
        "    dataframes = {\n",
        "        \"unmatched_ledger_entries\": unmatched_ledger_entries,\n",
        "        \"unmatched_bank_entries\": unmatched_bank_entries\n",
        "    }\n",
        "\n",
        "    names = list(dataframes.keys())\n",
        "\n",
        "    for i in tqdm(range(len(names))):\n",
        "      name = names[i]\n",
        "      df = dataframes[name]\n",
        "      filename = f\"{name}_{month_string}.xlsx\"\n",
        "      df.to_excel(filename, index=False)\n",
        "\n",
        "    print(\"\\n\\nExcel files created successfully.\")\n",
        "\n"
      ],
      "metadata": {
        "id": "N69gApD_f1Jg"
      },
      "execution_count": null,
      "outputs": []
    },
    {
      "cell_type": "markdown",
      "source": [
        "## 2. Run"
      ],
      "metadata": {
        "id": "DqdWfjt3tvvA"
      }
    },
    {
      "cell_type": "code",
      "source": [
        "Reconciliation()"
      ],
      "metadata": {
        "colab": {
          "base_uri": "https://localhost:8080/"
        },
        "id": "FvF8Jy02tWHN",
        "outputId": "518083fe-7839-4703-c20a-9adaedba6b1d"
      },
      "execution_count": null,
      "outputs": [
        {
          "output_type": "stream",
          "name": "stdout",
          "text": [
            "Starting First Pass.\n",
            "\n",
            "Ledger Entries to Match 630 \n",
            "Bank Entries to Match 644 \n",
            "\n",
            "Matching in progress:\n"
          ]
        },
        {
          "output_type": "stream",
          "name": "stderr",
          "text": [
            "100%|██████████| 630/630 [00:09<00:00, 65.50it/s] \n"
          ]
        },
        {
          "output_type": "stream",
          "name": "stdout",
          "text": [
            "\n",
            "Total Ledger Entries Matched 519 \n",
            "Total Bank Entries Matched 519\n",
            "\n",
            "Total Remaining Unmatched Ledger Entries 111 \n",
            "Total Remaining Unmatched Bank Entries 125\n",
            "\n",
            "----------------------------------------------------\n",
            "\n",
            "\n",
            "Starting Second Pass.\n",
            "\n",
            "Ledger Entries to Match 111 \n",
            "Bank Entries to Match 125 \n",
            "\n",
            "Matching Unique Date Instances in progress:\n"
          ]
        },
        {
          "output_type": "stream",
          "name": "stderr",
          "text": [
            "100%|██████████| 16/16 [00:00<00:00, 95.71it/s]\n"
          ]
        },
        {
          "output_type": "stream",
          "name": "stdout",
          "text": [
            "\n",
            "Total Ledger Entries Matched 93 \n",
            "Total Bank Entries Matched 44\n",
            "\n",
            "Total Remaining Unmatched Ledger Entries 18 \n",
            "Total Remaining Unmatched Bank Entries 81\n",
            "\n",
            "----------------------------------------------------\n",
            "\n",
            "\n",
            "Creating Excel Files:\n"
          ]
        },
        {
          "output_type": "stream",
          "name": "stderr",
          "text": [
            "100%|██████████| 2/2 [00:00<00:00, 34.77it/s]"
          ]
        },
        {
          "output_type": "stream",
          "name": "stdout",
          "text": [
            "\n",
            "\n",
            "Excel files created successfully.\n"
          ]
        },
        {
          "output_type": "stream",
          "name": "stderr",
          "text": [
            "\n"
          ]
        }
      ]
    }
  ]
}